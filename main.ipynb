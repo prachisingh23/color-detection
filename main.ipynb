{
  "nbformat": 4,
  "nbformat_minor": 0,
  "metadata": {
    "colab": {
      "provenance": []
    },
    "kernelspec": {
      "name": "python3",
      "display_name": "Python 3"
    },
    "language_info": {
      "name": "python"
    }
  },
  "cells": [
    {
      "cell_type": "code",
      "execution_count": 2,
      "metadata": {
        "colab": {
          "base_uri": "https://localhost:8080/"
        },
        "id": "bswbbJb_4NJ0",
        "outputId": "55aeaf5f-c9d9-4a5e-a65f-7c7b81e69252"
      },
      "outputs": [
        {
          "output_type": "stream",
          "name": "stdout",
          "text": [
            "Enter image path:image_path.jpg\n",
            "Total colors in the image: {'gold', 'darkred', 'black', 'darkkhaki', 'seashell', 'darkseagreen', 'honeydew', 'purple', 'lawngreen', 'thistle', 'khaki', 'steelblue', 'ivory', 'chocolate', 'dimgray', 'indianred', 'whitesmoke', 'skyblue', 'beige', 'gainsboro', 'peru', 'oldlace', 'plum', 'chartreuse', 'limegreen', 'antiquewhite', 'coral', 'darkgray', 'darksalmon', 'orange', 'tomato', 'aliceblue', 'lightslategray', 'lightcoral', 'mediumseagreen', 'pink', 'lightsalmon', 'lightgray', 'mistyrose', 'darkslateblue', 'lightblue', 'mintcream', 'darkolivegreen', 'lavender', 'mediumturquoise', 'lightsteelblue', 'brown', 'darkgoldenrod', 'moccasin', 'floralwhite', 'darkslategray', 'cadetblue', 'peachpuff', 'wheat', 'cornsilk', 'slategray', 'snow', 'yellow', 'gray', 'darkturquoise', 'tan', 'papayawhip', 'palevioletred', 'greenyellow', 'palegoldenrod', 'dodgerblue', 'firebrick', 'sienna', 'mediumvioletred', 'mediumaquamarine', 'seagreen', 'silver', 'cornflowerblue', 'ghostwhite', 'lightcyan', 'yellowgreen', 'bisque', 'olivedrab', 'darkorange', 'red', 'azure', 'maroon', 'blanchedalmond', 'linen', 'lavenderblush', 'goldenrod', 'saddlebrown', 'forestgreen', 'midnightblue', 'orangered', 'teal', 'crimson', 'white', 'rosybrown', 'burlywood', 'hotpink', 'lightseagreen', 'powderblue', 'darkcyan', 'salmon', 'lightpink', 'navajowhite', 'sandybrown'}\n"
          ]
        }
      ],
      "source": [
        "from PIL import Image\n",
        "import webcolors\n",
        "\n",
        "def closest_color(rgb_tuple):\n",
        "    min_colors = {}\n",
        "    for key, name in webcolors.CSS3_HEX_TO_NAMES.items():\n",
        "        r_c, g_c, b_c = webcolors.hex_to_rgb(key)\n",
        "        rd = (r_c - rgb_tuple[0]) ** 2\n",
        "        gd = (g_c - rgb_tuple[1]) ** 2\n",
        "        bd = (b_c - rgb_tuple[2]) ** 2\n",
        "        min_colors[(rd + gd + bd)] = name\n",
        "    return min_colors[min(min_colors.keys())]\n",
        "\n",
        "def count_and_get_colors(image_path, resize_width=None, resize_height=None):\n",
        "    # Open the image\n",
        "    img = Image.open(image_path)\n",
        "\n",
        "    # Resize the image if resize dimensions are provided\n",
        "    if resize_width and resize_height:\n",
        "        img = img.resize((resize_width, resize_height), Image.Resampling.LANCZOS)\n",
        "\n",
        "    # Convert the image to RGB mode (if it's not already in RGB)\n",
        "    img = img.convert('RGB')\n",
        "\n",
        "    # Get the image data\n",
        "    pixels = img.getdata()\n",
        "\n",
        "    # Count unique colors and store them along with their names\n",
        "    unique_colors = set()\n",
        "    color_names = set()\n",
        "    for pixel in pixels:\n",
        "        unique_colors.add(pixel)\n",
        "        color_name = closest_color(pixel)\n",
        "        color_names.add(color_name)\n",
        "\n",
        "    print(\"Total colors in the image:\", color_names)\n",
        "\n",
        "resize_width = 100\n",
        "resize_height = 100\n",
        "count_and_get_colors(input(\"Enter image path:\"), resize_width, resize_height)"
      ]
    }
  ]
}